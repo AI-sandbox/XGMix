{
 "cells": [
  {
   "cell_type": "code",
   "execution_count": 37,
   "metadata": {},
   "outputs": [
    {
     "name": "stdout",
     "output_type": "stream",
     "text": [
      "The autoreload extension is already loaded. To reload it, use:\n",
      "  %reload_ext autoreload\n"
     ]
    }
   ],
   "source": [
    "import os\n",
    "import pandas as pd\n",
    "\n",
    "from XGMIX import *\n",
    "from postprocess import sample_map_to_matrix\n",
    "\n",
    "%load_ext autoreload\n",
    "%autoreload 2"
   ]
  },
  {
   "cell_type": "markdown",
   "metadata": {},
   "source": [
    "## Using tool for prediction"
   ]
  },
  {
   "cell_type": "code",
   "execution_count": null,
   "metadata": {},
   "outputs": [
    {
     "name": "stdout",
     "output_type": "stream",
     "text": [
      "python3 XGMIX.py /home/wknd37/world_wide_references/ref_final_beagle_phased_1kg_hgdp_sgdp_chr22_hg19.vcf.gz  pred_WWref_22 22\n"
     ]
    }
   ],
   "source": [
    "# Arguments\n",
    "chm = \"22\"\n",
    "query_file = \"/home/wknd37/Admixture/generated_data/XGMix_release/build37/\"+chm+\"/simulation_output/val/gen_4/admix.query.vcf\"\n",
    "query_file = \"/home/wknd37/world_wide_references/ref_final_beagle_phased_1kg_hgdp_sgdp_chr\"+chm+\"_hg19.vcf.gz\"\n",
    "output_basename = \"pred_WWref_\"+chm\n",
    "\n",
    "# defining and executing the command\n",
    "cmd = \"python3 XGMIX.py \" + query_file + \" \" + \" \" + output_basename + \" \" + chm\n",
    "print(cmd)\n",
    "os.system(cmd)"
   ]
  },
  {
   "cell_type": "markdown",
   "metadata": {},
   "source": [
    "## Analyzing results"
   ]
  },
  {
   "cell_type": "code",
   "execution_count": 18,
   "metadata": {
    "scrolled": true
   },
   "outputs": [
    {
     "data": {
      "text/html": [
       "<div>\n",
       "<style scoped>\n",
       "    .dataframe tbody tr th:only-of-type {\n",
       "        vertical-align: middle;\n",
       "    }\n",
       "\n",
       "    .dataframe tbody tr th {\n",
       "        vertical-align: top;\n",
       "    }\n",
       "\n",
       "    .dataframe thead th {\n",
       "        text-align: right;\n",
       "    }\n",
       "</style>\n",
       "<table border=\"1\" class=\"dataframe\">\n",
       "  <thead>\n",
       "    <tr style=\"text-align: right;\">\n",
       "      <th></th>\n",
       "      <th>chm</th>\n",
       "      <th>pos</th>\n",
       "      <th>pos_cM</th>\n",
       "      <th>genetic_map_index</th>\n",
       "      <th>0a00b5bc.0</th>\n",
       "      <th>0a00b5bc.1</th>\n",
       "      <th>2dfac0cf.0</th>\n",
       "      <th>2dfac0cf.1</th>\n",
       "      <th>7bade378.0</th>\n",
       "      <th>7bade378.1</th>\n",
       "      <th>...</th>\n",
       "      <th>1677b175.0</th>\n",
       "      <th>1677b175.1</th>\n",
       "      <th>185b06eb.0</th>\n",
       "      <th>185b06eb.1</th>\n",
       "      <th>6cbacca4.0</th>\n",
       "      <th>6cbacca4.1</th>\n",
       "      <th>6c809928.0</th>\n",
       "      <th>6c809928.1</th>\n",
       "      <th>17d7fc24.0</th>\n",
       "      <th>17d7fc24.1</th>\n",
       "    </tr>\n",
       "  </thead>\n",
       "  <tbody>\n",
       "    <tr>\n",
       "      <th>0</th>\n",
       "      <td>22</td>\n",
       "      <td>16854565</td>\n",
       "      <td>-</td>\n",
       "      <td>-</td>\n",
       "      <td>6</td>\n",
       "      <td>6</td>\n",
       "      <td>0</td>\n",
       "      <td>2</td>\n",
       "      <td>0</td>\n",
       "      <td>4</td>\n",
       "      <td>...</td>\n",
       "      <td>0</td>\n",
       "      <td>6</td>\n",
       "      <td>6</td>\n",
       "      <td>3</td>\n",
       "      <td>3</td>\n",
       "      <td>0</td>\n",
       "      <td>0</td>\n",
       "      <td>0</td>\n",
       "      <td>5</td>\n",
       "      <td>2</td>\n",
       "    </tr>\n",
       "    <tr>\n",
       "      <th>1</th>\n",
       "      <td>22</td>\n",
       "      <td>16854617</td>\n",
       "      <td>-</td>\n",
       "      <td>-</td>\n",
       "      <td>6</td>\n",
       "      <td>6</td>\n",
       "      <td>0</td>\n",
       "      <td>2</td>\n",
       "      <td>0</td>\n",
       "      <td>4</td>\n",
       "      <td>...</td>\n",
       "      <td>0</td>\n",
       "      <td>6</td>\n",
       "      <td>6</td>\n",
       "      <td>3</td>\n",
       "      <td>3</td>\n",
       "      <td>0</td>\n",
       "      <td>0</td>\n",
       "      <td>0</td>\n",
       "      <td>5</td>\n",
       "      <td>2</td>\n",
       "    </tr>\n",
       "    <tr>\n",
       "      <th>2</th>\n",
       "      <td>22</td>\n",
       "      <td>16854643</td>\n",
       "      <td>-</td>\n",
       "      <td>-</td>\n",
       "      <td>6</td>\n",
       "      <td>6</td>\n",
       "      <td>0</td>\n",
       "      <td>2</td>\n",
       "      <td>0</td>\n",
       "      <td>4</td>\n",
       "      <td>...</td>\n",
       "      <td>0</td>\n",
       "      <td>6</td>\n",
       "      <td>6</td>\n",
       "      <td>3</td>\n",
       "      <td>3</td>\n",
       "      <td>0</td>\n",
       "      <td>0</td>\n",
       "      <td>0</td>\n",
       "      <td>5</td>\n",
       "      <td>2</td>\n",
       "    </tr>\n",
       "    <tr>\n",
       "      <th>3</th>\n",
       "      <td>22</td>\n",
       "      <td>16854652</td>\n",
       "      <td>-</td>\n",
       "      <td>-</td>\n",
       "      <td>6</td>\n",
       "      <td>6</td>\n",
       "      <td>0</td>\n",
       "      <td>2</td>\n",
       "      <td>0</td>\n",
       "      <td>4</td>\n",
       "      <td>...</td>\n",
       "      <td>0</td>\n",
       "      <td>6</td>\n",
       "      <td>6</td>\n",
       "      <td>3</td>\n",
       "      <td>3</td>\n",
       "      <td>0</td>\n",
       "      <td>0</td>\n",
       "      <td>0</td>\n",
       "      <td>5</td>\n",
       "      <td>2</td>\n",
       "    </tr>\n",
       "    <tr>\n",
       "      <th>4</th>\n",
       "      <td>22</td>\n",
       "      <td>16854732</td>\n",
       "      <td>-</td>\n",
       "      <td>-</td>\n",
       "      <td>6</td>\n",
       "      <td>6</td>\n",
       "      <td>0</td>\n",
       "      <td>2</td>\n",
       "      <td>0</td>\n",
       "      <td>4</td>\n",
       "      <td>...</td>\n",
       "      <td>0</td>\n",
       "      <td>6</td>\n",
       "      <td>6</td>\n",
       "      <td>3</td>\n",
       "      <td>3</td>\n",
       "      <td>0</td>\n",
       "      <td>0</td>\n",
       "      <td>0</td>\n",
       "      <td>5</td>\n",
       "      <td>2</td>\n",
       "    </tr>\n",
       "    <tr>\n",
       "      <th>...</th>\n",
       "      <td>...</td>\n",
       "      <td>...</td>\n",
       "      <td>...</td>\n",
       "      <td>...</td>\n",
       "      <td>...</td>\n",
       "      <td>...</td>\n",
       "      <td>...</td>\n",
       "      <td>...</td>\n",
       "      <td>...</td>\n",
       "      <td>...</td>\n",
       "      <td>...</td>\n",
       "      <td>...</td>\n",
       "      <td>...</td>\n",
       "      <td>...</td>\n",
       "      <td>...</td>\n",
       "      <td>...</td>\n",
       "      <td>...</td>\n",
       "      <td>...</td>\n",
       "      <td>...</td>\n",
       "      <td>...</td>\n",
       "      <td>...</td>\n",
       "    </tr>\n",
       "    <tr>\n",
       "      <th>317395</th>\n",
       "      <td>22</td>\n",
       "      <td>51241101</td>\n",
       "      <td>-</td>\n",
       "      <td>-</td>\n",
       "      <td>4</td>\n",
       "      <td>3</td>\n",
       "      <td>3</td>\n",
       "      <td>0</td>\n",
       "      <td>0</td>\n",
       "      <td>3</td>\n",
       "      <td>...</td>\n",
       "      <td>6</td>\n",
       "      <td>0</td>\n",
       "      <td>7</td>\n",
       "      <td>0</td>\n",
       "      <td>0</td>\n",
       "      <td>3</td>\n",
       "      <td>6</td>\n",
       "      <td>0</td>\n",
       "      <td>0</td>\n",
       "      <td>2</td>\n",
       "    </tr>\n",
       "    <tr>\n",
       "      <th>317396</th>\n",
       "      <td>22</td>\n",
       "      <td>51241102</td>\n",
       "      <td>-</td>\n",
       "      <td>-</td>\n",
       "      <td>4</td>\n",
       "      <td>3</td>\n",
       "      <td>3</td>\n",
       "      <td>0</td>\n",
       "      <td>0</td>\n",
       "      <td>3</td>\n",
       "      <td>...</td>\n",
       "      <td>6</td>\n",
       "      <td>0</td>\n",
       "      <td>7</td>\n",
       "      <td>0</td>\n",
       "      <td>0</td>\n",
       "      <td>3</td>\n",
       "      <td>6</td>\n",
       "      <td>0</td>\n",
       "      <td>0</td>\n",
       "      <td>2</td>\n",
       "    </tr>\n",
       "    <tr>\n",
       "      <th>317397</th>\n",
       "      <td>22</td>\n",
       "      <td>51241386</td>\n",
       "      <td>-</td>\n",
       "      <td>-</td>\n",
       "      <td>4</td>\n",
       "      <td>3</td>\n",
       "      <td>3</td>\n",
       "      <td>0</td>\n",
       "      <td>0</td>\n",
       "      <td>3</td>\n",
       "      <td>...</td>\n",
       "      <td>6</td>\n",
       "      <td>0</td>\n",
       "      <td>7</td>\n",
       "      <td>0</td>\n",
       "      <td>0</td>\n",
       "      <td>3</td>\n",
       "      <td>6</td>\n",
       "      <td>0</td>\n",
       "      <td>0</td>\n",
       "      <td>2</td>\n",
       "    </tr>\n",
       "    <tr>\n",
       "      <th>317398</th>\n",
       "      <td>22</td>\n",
       "      <td>51244163</td>\n",
       "      <td>-</td>\n",
       "      <td>-</td>\n",
       "      <td>4</td>\n",
       "      <td>3</td>\n",
       "      <td>3</td>\n",
       "      <td>0</td>\n",
       "      <td>0</td>\n",
       "      <td>3</td>\n",
       "      <td>...</td>\n",
       "      <td>6</td>\n",
       "      <td>0</td>\n",
       "      <td>7</td>\n",
       "      <td>0</td>\n",
       "      <td>0</td>\n",
       "      <td>3</td>\n",
       "      <td>6</td>\n",
       "      <td>0</td>\n",
       "      <td>0</td>\n",
       "      <td>2</td>\n",
       "    </tr>\n",
       "    <tr>\n",
       "      <th>317399</th>\n",
       "      <td>22</td>\n",
       "      <td>51244237</td>\n",
       "      <td>-</td>\n",
       "      <td>-</td>\n",
       "      <td>4</td>\n",
       "      <td>3</td>\n",
       "      <td>3</td>\n",
       "      <td>0</td>\n",
       "      <td>0</td>\n",
       "      <td>3</td>\n",
       "      <td>...</td>\n",
       "      <td>6</td>\n",
       "      <td>0</td>\n",
       "      <td>7</td>\n",
       "      <td>0</td>\n",
       "      <td>0</td>\n",
       "      <td>3</td>\n",
       "      <td>6</td>\n",
       "      <td>0</td>\n",
       "      <td>0</td>\n",
       "      <td>2</td>\n",
       "    </tr>\n",
       "  </tbody>\n",
       "</table>\n",
       "<p>317400 rows × 404 columns</p>\n",
       "</div>"
      ],
      "text/plain": [
       "        chm       pos   pos_cM   genetic_map_index   0a00b5bc.0  0a00b5bc.1  \\\n",
       "0         22  16854565        -                   -           6           6   \n",
       "1         22  16854617        -                   -           6           6   \n",
       "2         22  16854643        -                   -           6           6   \n",
       "3         22  16854652        -                   -           6           6   \n",
       "4         22  16854732        -                   -           6           6   \n",
       "...      ...       ...      ...                 ...         ...         ...   \n",
       "317395    22  51241101        -                   -           4           3   \n",
       "317396    22  51241102        -                   -           4           3   \n",
       "317397    22  51241386        -                   -           4           3   \n",
       "317398    22  51244163        -                   -           4           3   \n",
       "317399    22  51244237        -                   -           4           3   \n",
       "\n",
       "        2dfac0cf.0  2dfac0cf.1  7bade378.0  7bade378.1  ...  1677b175.0  \\\n",
       "0                0           2           0           4  ...           0   \n",
       "1                0           2           0           4  ...           0   \n",
       "2                0           2           0           4  ...           0   \n",
       "3                0           2           0           4  ...           0   \n",
       "4                0           2           0           4  ...           0   \n",
       "...            ...         ...         ...         ...  ...         ...   \n",
       "317395           3           0           0           3  ...           6   \n",
       "317396           3           0           0           3  ...           6   \n",
       "317397           3           0           0           3  ...           6   \n",
       "317398           3           0           0           3  ...           6   \n",
       "317399           3           0           0           3  ...           6   \n",
       "\n",
       "        1677b175.1  185b06eb.0  185b06eb.1  6cbacca4.0  6cbacca4.1  \\\n",
       "0                6           6           3           3           0   \n",
       "1                6           6           3           3           0   \n",
       "2                6           6           3           3           0   \n",
       "3                6           6           3           3           0   \n",
       "4                6           6           3           3           0   \n",
       "...            ...         ...         ...         ...         ...   \n",
       "317395           0           7           0           0           3   \n",
       "317396           0           7           0           0           3   \n",
       "317397           0           7           0           0           3   \n",
       "317398           0           7           0           0           3   \n",
       "317399           0           7           0           0           3   \n",
       "\n",
       "        6c809928.0  6c809928.1  17d7fc24.0  17d7fc24.1  \n",
       "0                0           0           5           2  \n",
       "1                0           0           5           2  \n",
       "2                0           0           5           2  \n",
       "3                0           0           5           2  \n",
       "4                0           0           5           2  \n",
       "...            ...         ...         ...         ...  \n",
       "317395           6           0           0           2  \n",
       "317396           6           0           0           2  \n",
       "317397           6           0           0           2  \n",
       "317398           6           0           0           2  \n",
       "317399           6           0           0           2  \n",
       "\n",
       "[317400 rows x 404 columns]"
      ]
     },
     "execution_count": 18,
     "metadata": {},
     "output_type": "execute_result"
    }
   ],
   "source": [
    "# Prediction dataframe\n",
    "output_file = \"./\"+output_basename+\".tsv\"\n",
    "pred_df = pd.read_csv(output_file, sep=\"\\t\", comment=\"#\")\n",
    "pred_df"
   ]
  },
  {
   "cell_type": "code",
   "execution_count": 30,
   "metadata": {},
   "outputs": [
    {
     "data": {
      "text/plain": [
       "array([[6, 6, 6, ..., 4, 4, 4],\n",
       "       [6, 6, 6, ..., 3, 3, 3],\n",
       "       [0, 0, 0, ..., 3, 3, 3],\n",
       "       ...,\n",
       "       [0, 0, 0, ..., 0, 0, 0],\n",
       "       [5, 5, 5, ..., 0, 0, 0],\n",
       "       [2, 2, 2, ..., 2, 2, 2]], dtype=object)"
      ]
     },
     "execution_count": 30,
     "metadata": {},
     "output_type": "execute_result"
    }
   ],
   "source": [
    "# Prediction array\n",
    "pred_labels = np.array(pred_df)[:,4:].T\n",
    "pred_labels"
   ]
  },
  {
   "cell_type": "code",
   "execution_count": 31,
   "metadata": {},
   "outputs": [
    {
     "data": {
      "text/plain": [
       "array([[6, 6, 6, ..., 4, 4, 4],\n",
       "       [6, 6, 6, ..., 3, 3, 3],\n",
       "       [0, 0, 0, ..., 3, 3, 3],\n",
       "       ...,\n",
       "       [0, 0, 0, ..., 0, 0, 0],\n",
       "       [5, 5, 5, ..., 0, 0, 0],\n",
       "       [2, 2, 2, ..., 2, 2, 2]])"
      ]
     },
     "execution_count": 31,
     "metadata": {},
     "output_type": "execute_result"
    }
   ],
   "source": [
    "# Loading a map file including the true ancestry and validate\n",
    "true_labels_file = \"/home/wknd37/Admixture/generated_data/XGMix_release/build37/chm22/simulation_output/val/gen_4/admix.result\"\n",
    "true_labels = sample_map_to_matrix(true_labels_file)\n",
    "true_labels\n"
   ]
  },
  {
   "cell_type": "code",
   "execution_count": 32,
   "metadata": {},
   "outputs": [
    {
     "data": {
      "text/plain": [
       "(400, 317400)"
      ]
     },
     "execution_count": 32,
     "metadata": {},
     "output_type": "execute_result"
    }
   ],
   "source": [
    "pred_labels.shape\n"
   ]
  },
  {
   "cell_type": "code",
   "execution_count": 33,
   "metadata": {},
   "outputs": [
    {
     "data": {
      "text/plain": [
       "(400, 317408)"
      ]
     },
     "execution_count": 33,
     "metadata": {},
     "output_type": "execute_result"
    }
   ],
   "source": [
    "true_labels.shape\n"
   ]
  },
  {
   "cell_type": "code",
   "execution_count": 34,
   "metadata": {},
   "outputs": [
    {
     "data": {
      "text/plain": [
       "0.9433072936357908"
      ]
     },
     "execution_count": 34,
     "metadata": {},
     "output_type": "execute_result"
    }
   ],
   "source": [
    "np.mean(pred_labels == true_labels[:, :317400])"
   ]
  },
  {
   "cell_type": "code",
   "execution_count": null,
   "metadata": {},
   "outputs": [],
   "source": []
  },
  {
   "cell_type": "code",
   "execution_count": null,
   "metadata": {},
   "outputs": [],
   "source": [
    "true_labels = np.array(true_labels_df)[:,2:]\n",
    "true_labels"
   ]
  },
  {
   "cell_type": "code",
   "execution_count": null,
   "metadata": {},
   "outputs": [],
   "source": [
    "pred_pos = np.array(pred_df)[:,1]\n",
    "true_pos = np.array(true_labels_df)[:,1]"
   ]
  },
  {
   "cell_type": "code",
   "execution_count": 149,
   "metadata": {},
   "outputs": [],
   "source": [
    "# TODO: CM?"
   ]
  }
 ],
 "metadata": {
  "kernelspec": {
   "display_name": "Python 3",
   "language": "python",
   "name": "python3"
  },
  "language_info": {
   "codemirror_mode": {
    "name": "ipython",
    "version": 3
   },
   "file_extension": ".py",
   "mimetype": "text/x-python",
   "name": "python",
   "nbconvert_exporter": "python",
   "pygments_lexer": "ipython3",
   "version": "3.7.6"
  }
 },
 "nbformat": 4,
 "nbformat_minor": 4
}
