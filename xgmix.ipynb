{
 "cells": [
  {
   "cell_type": "markdown",
   "metadata": {},
   "source": [
    "# XGMIX notebook\n",
    "\n",
    "This seems to work. One caveat is that it gets stuck in an infinte loop for the fist time you run after making changes. So just stop the kernel and re-run the cell."
   ]
  },
  {
   "cell_type": "code",
   "execution_count": 1,
   "metadata": {},
   "outputs": [],
   "source": [
    "import numpy as np\n",
    "import os"
   ]
  },
  {
   "cell_type": "code",
   "execution_count": 2,
   "metadata": {},
   "outputs": [],
   "source": [
    "%load_ext autoreload\n",
    "%autoreload 2\n",
    "from preprocess import data_process,simulate_missing_values\n",
    "from XGMIX import *"
   ]
  },
  {
   "cell_type": "markdown",
   "metadata": {},
   "source": [
    "## Main arguments"
   ]
  },
  {
   "cell_type": "code",
   "execution_count": 3,
   "metadata": {},
   "outputs": [],
   "source": [
    "# args = {'train_data': \"/home/arvindsk/XGMix/expts/xgmix_global_1/train.txt\", \n",
    "#         \"val_data\" : \"/home/arvindsk/XGMix/expts/xgmix_global_1/val.txt\", \n",
    "#         \"save\": None,\n",
    "#         \"window_size\": 1000,\n",
    "#         \"smooth_size\": 75,\n",
    "#         \"missing\":0.0}"
   ]
  },
  {
   "cell_type": "code",
   "execution_count": 4,
   "metadata": {},
   "outputs": [],
   "source": [
    "args = {'train_data': \"/home/arvindsk/XGMix/expts/xgmix_global_22/train.txt\", \n",
    "        \"val_data\" : \"/home/arvindsk/XGMix/expts/xgmix_global_22/val.txt\", \n",
    "        \"save\": \"/home/arvindsk/XGMix/expts/xgmix_global_22/\",\n",
    "        \"window_size\": 1000,\n",
    "        \"smooth_size\": 75,\n",
    "        \"missing\":0.0}"
   ]
  },
  {
   "cell_type": "markdown",
   "metadata": {},
   "source": [
    "## Pre-processing"
   ]
  },
  {
   "cell_type": "code",
   "execution_count": 5,
   "metadata": {
    "scrolled": true
   },
   "outputs": [
    {
     "name": "stdout",
     "output_type": "stream",
     "text": [
      "Loading data...\n",
      "Reading /home/arvindsk/datagen/simulation-output/chm22/xgmix_worldwide_22_train/gen_2//mat_vcf_2d.npy\n",
      "Reading /home/arvindsk/datagen/simulation-output/chm22/xgmix_worldwide_22_train/gen_4//mat_vcf_2d.npy\n",
      "Reading /home/arvindsk/datagen/simulation-output/chm22/xgmix_worldwide_22_train/gen_6//mat_vcf_2d.npy\n",
      "Reading /home/arvindsk/datagen/simulation-output/chm22/xgmix_worldwide_22_train/gen_2//mat_map.npy\n",
      "Reading /home/arvindsk/datagen/simulation-output/chm22/xgmix_worldwide_22_train/gen_4//mat_map.npy\n",
      "Reading /home/arvindsk/datagen/simulation-output/chm22/xgmix_worldwide_22_train/gen_6//mat_map.npy\n",
      "Reading /home/arvindsk/datagen/simulation-output/chm22/xgmix_worldwide_22_valid/gen_2//mat_vcf_2d.npy\n",
      "Reading /home/arvindsk/datagen/simulation-output/chm22/xgmix_worldwide_22_valid/gen_4//mat_vcf_2d.npy\n",
      "Reading /home/arvindsk/datagen/simulation-output/chm22/xgmix_worldwide_22_valid/gen_6//mat_vcf_2d.npy\n",
      "Reading /home/arvindsk/datagen/simulation-output/chm22/xgmix_worldwide_22_valid/gen_2//mat_map.npy\n",
      "Reading /home/arvindsk/datagen/simulation-output/chm22/xgmix_worldwide_22_valid/gen_4//mat_map.npy\n",
      "Reading /home/arvindsk/datagen/simulation-output/chm22/xgmix_worldwide_22_valid/gen_6//mat_map.npy\n",
      "Reshaping data...\n",
      "Generating labels...\n"
     ]
    }
   ],
   "source": [
    "class Struct:\n",
    "    def __init__(self, **entries):\n",
    "        self.__dict__.update(entries)\n",
    "args = Struct(**args)\n",
    "\n",
    "win = args.window_size\n",
    "training, training_labels, validation, validation_labels = data_process(args)\n",
    "chmlen = training.shape[-1]\n",
    "sws = args.smooth_size if args.smooth_size%2 else args.smooth_size-1\n",
    "num_anc = len(np.unique(training_labels))"
   ]
  },
  {
   "cell_type": "code",
   "execution_count": 6,
   "metadata": {
    "scrolled": true
   },
   "outputs": [],
   "source": [
    "if args.missing != 0:\n",
    "    training = simulate_missing_values(training,args.missing)\n",
    "    validation = simulate_missing_values(validation,args.missing)"
   ]
  },
  {
   "cell_type": "code",
   "execution_count": 7,
   "metadata": {},
   "outputs": [
    {
     "name": "stdout",
     "output_type": "stream",
     "text": [
      "Directory exists\n"
     ]
    }
   ],
   "source": [
    "try:\n",
    "    os.mkdir(args.save)\n",
    "except:\n",
    "    print(\"Directory exists\")"
   ]
  },
  {
   "cell_type": "code",
   "execution_count": 8,
   "metadata": {},
   "outputs": [],
   "source": [
    "xgm = XGMIX(chmlen,win,sws,num_anc,args.save,cores=16)"
   ]
  },
  {
   "cell_type": "code",
   "execution_count": 9,
   "metadata": {
    "scrolled": true
   },
   "outputs": [
    {
     "name": "stdout",
     "output_type": "stream",
     "text": [
      "Windows done: 0, \n",
      "Base Training Accuracy: 0.8233333333333334, Base Validation Accuracy: 0.71\n",
      "Windows done: 100, \n",
      "Base Training Accuracy: 0.8548184818481848, Base Validation Accuracy: 0.7575247524752473\n",
      "Windows done: 200, \n",
      "Base Training Accuracy: 0.8463239358761747, Base Validation Accuracy: 0.7609452736318407\n",
      "Windows done: 300, \n",
      "Base Training Accuracy: 0.8485197489848653, Base Validation Accuracy: 0.7675526024363234\n",
      "Smooth Training Accuracy: 1.0 \n",
      "Smooth Validation Accuracy: 0.9512933753943218 \n"
     ]
    }
   ],
   "source": [
    "xgm.train(training,training_labels,validation, validation_labels, smoothlite=10000)"
   ]
  },
  {
   "cell_type": "code",
   "execution_count": 10,
   "metadata": {},
   "outputs": [
    {
     "name": "stdout",
     "output_type": "stream",
     "text": [
      "Accuracy\n",
      "0.9512933753943218\n",
      "Confusion matrix\n",
      "[[27089   252    31    10     5    16    33   149]\n",
      " [   17   160     0     0     0     0     1     0]\n",
      " [   22     2 32366   139   111   283   457    34]\n",
      " [   21     2    18  8450    28     5   380  1402]\n",
      " [   30     0    44    13  8427     0    41    10]\n",
      " [    0     0     0    16     2   769     0     0]\n",
      " [    2     0    76   282    12     0 10268   495]\n",
      " [   12     0     9   124     2     0    44  2939]]\n"
     ]
    }
   ],
   "source": [
    "# predict using the built-in method.\n",
    "ypreds = xgm.predict(validation)\n",
    "print(\"Accuracy\")\n",
    "print(np.mean(ypreds == validation_labels.numpy()))\n",
    "print(\"Confusion matrix\")\n",
    "print(sklearn.metrics.confusion_matrix(ypreds.ravel(), validation_labels.numpy().ravel()))"
   ]
  },
  {
   "cell_type": "code",
   "execution_count": 11,
   "metadata": {
    "scrolled": true
   },
   "outputs": [
    {
     "name": "stdout",
     "output_type": "stream",
     "text": [
      "Accuracy\n",
      "0.9512933753943218\n",
      "Confusion matrix\n",
      "[[27089   252    31    10     5    16    33   149]\n",
      " [   17   160     0     0     0     0     1     0]\n",
      " [   22     2 32366   139   111   283   457    34]\n",
      " [   21     2    18  8450    28     5   380  1402]\n",
      " [   30     0    44    13  8427     0    41    10]\n",
      " [    0     0     0    16     2   769     0     0]\n",
      " [    2     0    76   282    12     0 10268   495]\n",
      " [   12     0     9   124     2     0    44  2939]]\n"
     ]
    }
   ],
   "source": [
    "# predict using the standalone function.\n",
    "ypreds = predict(validation,args.save+\"/model.pkl\")\n",
    "print(\"Accuracy\")\n",
    "print(np.mean(ypreds == validation_labels.numpy()))\n",
    "print(\"Confusion matrix\")\n",
    "print(sklearn.metrics.confusion_matrix(ypreds.ravel(), validation_labels.numpy().ravel()))"
   ]
  }
 ],
 "metadata": {
  "kernelspec": {
   "display_name": "Python 3",
   "language": "python",
   "name": "python3"
  },
  "language_info": {
   "codemirror_mode": {
    "name": "ipython",
    "version": 3
   },
   "file_extension": ".py",
   "mimetype": "text/x-python",
   "name": "python",
   "nbconvert_exporter": "python",
   "pygments_lexer": "ipython3",
   "version": "3.7.4"
  }
 },
 "nbformat": 4,
 "nbformat_minor": 2
}
