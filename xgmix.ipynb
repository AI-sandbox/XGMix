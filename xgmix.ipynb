{
 "cells": [
  {
   "cell_type": "markdown",
   "metadata": {},
   "source": [
    "# XGMIX notebook"
   ]
  },
  {
   "cell_type": "code",
   "execution_count": 58,
   "metadata": {},
   "outputs": [],
   "source": [
    "import numpy as np\n",
    "import os"
   ]
  },
  {
   "cell_type": "code",
   "execution_count": 59,
   "metadata": {},
   "outputs": [
    {
     "name": "stdout",
     "output_type": "stream",
     "text": [
      "The autoreload extension is already loaded. To reload it, use:\n",
      "  %reload_ext autoreload\n"
     ]
    }
   ],
   "source": [
    "%load_ext autoreload\n",
    "%autoreload 2\n",
    "\n",
    "from preprocess import data_process,simulate_missing_values\n",
    "from XGMIX import *"
   ]
  },
  {
   "cell_type": "markdown",
   "metadata": {},
   "source": [
    "## Main arguments"
   ]
  },
  {
   "cell_type": "code",
   "execution_count": 60,
   "metadata": {},
   "outputs": [],
   "source": [
    "# args = {'train_data': \"/home/arvindsk/XGMix/expts/xgmix_global_1/train.txt\", \n",
    "#         \"val_data\" : \"/home/arvindsk/XGMix/expts/xgmix_global_1/val.txt\", \n",
    "#         \"save\": None,\n",
    "#         \"window_size\": 1000,\n",
    "#         \"smooth_size\": 75,\n",
    "#         \"missing\":0.0}"
   ]
  },
  {
   "cell_type": "code",
   "execution_count": 61,
   "metadata": {},
   "outputs": [],
   "source": [
    "args = {'train_data': \"/home/arvindsk/XGMix/expts/xgmix_global_22/train.txt\", \n",
    "        \"val_data\" : \"/home/arvindsk/XGMix/expts/xgmix_global_22/val.txt\", \n",
    "        \"save\": \"/home/arvindsk/XGMix/expts/xgmix_global_22/\",\n",
    "        \"window_size\": 8000,\n",
    "        \"smooth_size\": 75,\n",
    "        \"missing\":0}"
   ]
  },
  {
   "cell_type": "markdown",
   "metadata": {},
   "source": [
    "## Pre-processing"
   ]
  },
  {
   "cell_type": "code",
   "execution_count": 62,
   "metadata": {
    "scrolled": true
   },
   "outputs": [
    {
     "name": "stdout",
     "output_type": "stream",
     "text": [
      "Loading data...\n",
      "Reading /home/arvindsk/datagen/simulation-output/chm22/xgmix_worldwide_22_train/gen_2//mat_vcf_2d.npy\n",
      "Reading /home/arvindsk/datagen/simulation-output/chm22/xgmix_worldwide_22_train/gen_4//mat_vcf_2d.npy\n",
      "Reading /home/arvindsk/datagen/simulation-output/chm22/xgmix_worldwide_22_train/gen_6//mat_vcf_2d.npy\n",
      "Reading /home/arvindsk/datagen/simulation-output/chm22/xgmix_worldwide_22_train/gen_2//mat_map.npy\n",
      "Reading /home/arvindsk/datagen/simulation-output/chm22/xgmix_worldwide_22_train/gen_4//mat_map.npy\n",
      "Reading /home/arvindsk/datagen/simulation-output/chm22/xgmix_worldwide_22_train/gen_6//mat_map.npy\n",
      "Reading /home/arvindsk/datagen/simulation-output/chm22/xgmix_worldwide_22_valid/gen_2//mat_vcf_2d.npy\n",
      "Reading /home/arvindsk/datagen/simulation-output/chm22/xgmix_worldwide_22_valid/gen_4//mat_vcf_2d.npy\n",
      "Reading /home/arvindsk/datagen/simulation-output/chm22/xgmix_worldwide_22_valid/gen_6//mat_vcf_2d.npy\n",
      "Reading /home/arvindsk/datagen/simulation-output/chm22/xgmix_worldwide_22_valid/gen_2//mat_map.npy\n",
      "Reading /home/arvindsk/datagen/simulation-output/chm22/xgmix_worldwide_22_valid/gen_4//mat_map.npy\n",
      "Reading /home/arvindsk/datagen/simulation-output/chm22/xgmix_worldwide_22_valid/gen_6//mat_map.npy\n",
      "Reshaping data...\n",
      "Generating labels...\n"
     ]
    }
   ],
   "source": [
    "class Struct:\n",
    "    def __init__(self, **entries):\n",
    "        self.__dict__.update(entries)\n",
    "args = Struct(**args)\n",
    "\n",
    "win = args.window_size\n",
    "training, training_labels, validation, validation_labels = data_process(args)\n",
    "chmlen = training.shape[-1]\n",
    "sws = args.smooth_size if args.smooth_size%2 else args.smooth_size-1\n",
    "num_anc = len(np.unique(training_labels))"
   ]
  },
  {
   "cell_type": "code",
   "execution_count": 63,
   "metadata": {
    "scrolled": true
   },
   "outputs": [],
   "source": [
    "if args.missing != 0:\n",
    "    training = simulate_missing_values(training,args.missing)\n",
    "    validation = simulate_missing_values(validation,args.missing)"
   ]
  },
  {
   "cell_type": "code",
   "execution_count": 64,
   "metadata": {},
   "outputs": [
    {
     "name": "stdout",
     "output_type": "stream",
     "text": [
      "Directory exists\n"
     ]
    }
   ],
   "source": [
    "try:\n",
    "    os.mkdir(args.save)\n",
    "except:\n",
    "    print(\"Directory exists\")"
   ]
  },
  {
   "cell_type": "code",
   "execution_count": 65,
   "metadata": {},
   "outputs": [],
   "source": [
    "xgm = XGMIX(chmlen,win,sws,num_anc,args.save,cores=16)"
   ]
  },
  {
   "cell_type": "code",
   "execution_count": 66,
   "metadata": {
    "scrolled": true
   },
   "outputs": [
    {
     "name": "stdout",
     "output_type": "stream",
     "text": [
      "Windows done: 0, \n",
      "Base Training Accuracy: 0.9844444444444445, Base Validation Accuracy: 0.8233333333333334\n",
      "Smooth Training Accuracy: 1.0 \n",
      "Smooth Validation Accuracy: 0.9287179487179488 \n"
     ]
    }
   ],
   "source": [
    "xgm.train(training,training_labels,validation, validation_labels, smoothlite=10000)"
   ]
  },
  {
   "cell_type": "code",
   "execution_count": null,
   "metadata": {
    "scrolled": true
   },
   "outputs": [],
   "source": [
    "# predict using the built-in method.\n",
    "ypreds = xgm.predict(validation)\n",
    "print(\"Accuracy\")\n",
    "print(np.mean(ypreds == validation_labels.numpy()))\n",
    "print(\"Confusion matrix\")\n",
    "print(sklearn.metrics.confusion_matrix(ypreds.ravel(), validation_labels.numpy().ravel()))"
   ]
  },
  {
   "cell_type": "code",
   "execution_count": null,
   "metadata": {
    "scrolled": true
   },
   "outputs": [],
   "source": [
    "# predict using the standalone function.\n",
    "ypreds = predict(validation,args.save+\"/model.pkl\")\n",
    "print(\"Accuracy\")\n",
    "print(np.mean(ypreds == validation_labels.numpy()))\n",
    "print(\"Confusion matrix\")\n",
    "print(sklearn.metrics.confusion_matrix(ypreds.ravel(), validation_labels.numpy().ravel()))"
   ]
  },
  {
   "cell_type": "code",
   "execution_count": null,
   "metadata": {},
   "outputs": [],
   "source": []
  }
 ],
 "metadata": {
  "kernelspec": {
   "display_name": "Python 3",
   "language": "python",
   "name": "python3"
  },
  "language_info": {
   "codemirror_mode": {
    "name": "ipython",
    "version": 3
   },
   "file_extension": ".py",
   "mimetype": "text/x-python",
   "name": "python",
   "nbconvert_exporter": "python",
   "pygments_lexer": "ipython3",
   "version": "3.7.6"
  }
 },
 "nbformat": 4,
 "nbformat_minor": 2
}
