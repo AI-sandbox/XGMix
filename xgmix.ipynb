{
 "cells": [
  {
   "cell_type": "markdown",
   "metadata": {},
   "source": [
    "# XGMIX notebook"
   ]
  },
  {
   "cell_type": "code",
   "execution_count": 58,
   "metadata": {},
   "outputs": [],
   "source": [
    "import numpy as np\n",
    "import os"
   ]
  },
  {
   "cell_type": "code",
   "execution_count": 59,
   "metadata": {},
   "outputs": [
    {
     "name": "stdout",
     "output_type": "stream",
     "text": [
      "The autoreload extension is already loaded. To reload it, use:\n",
      "  %reload_ext autoreload\n"
     ]
    }
   ],
   "source": [
    "%load_ext autoreload\n",
    "%autoreload 2\n",
    "\n",
    "from preprocess import data_process,simulate_missing_values\n",
    "from XGMIX import *"
   ]
  },
  {
   "cell_type": "markdown",
   "metadata": {},
   "source": [
    "## Main arguments"
   ]
  },
  {
   "cell_type": "code",
   "execution_count": 60,
   "metadata": {},
   "outputs": [],
   "source": [
    "# args = {'train_data': \"/home/arvindsk/XGMix/expts/xgmix_global_1/train.txt\", \n",
    "#         \"val_data\" : \"/home/arvindsk/XGMix/expts/xgmix_global_1/val.txt\", \n",
    "#         \"save\": None,\n",
    "#         \"window_size\": 1000,\n",
    "#         \"smooth_size\": 75,\n",
    "#         \"missing\":0.0}"
   ]
  },
  {
   "cell_type": "code",
   "execution_count": 61,
   "metadata": {},
   "outputs": [],
   "source": [
    "args = {'train_data': \"/home/arvindsk/XGMix/expts/xgmix_global_22/train.txt\", \n",
    "        \"val_data\" : \"/home/arvindsk/XGMix/expts/xgmix_global_22/val.txt\", \n",
    "        \"save\": \"/home/arvindsk/XGMix/expts/xgmix_global_22/\",\n",
    "        \"window_size\": 8000,\n",
    "        \"smooth_size\": 75,\n",
    "        \"missing\":0}"
   ]
  },
  {
   "cell_type": "markdown",
   "metadata": {},
   "source": [
    "## Pre-processing"
   ]
  },
  {
   "cell_type": "code",
   "execution_count": 62,
   "metadata": {
    "scrolled": true
   },
   "outputs": [
    {
     "name": "stdout",
     "output_type": "stream",
     "text": [
      "Loading data...\n",
      "Reading /home/arvindsk/datagen/simulation-output/chm22/xgmix_worldwide_22_train/gen_2//mat_vcf_2d.npy\n",
      "Reading /home/arvindsk/datagen/simulation-output/chm22/xgmix_worldwide_22_train/gen_4//mat_vcf_2d.npy\n",
      "Reading /home/arvindsk/datagen/simulation-output/chm22/xgmix_worldwide_22_train/gen_6//mat_vcf_2d.npy\n",
      "Reading /home/arvindsk/datagen/simulation-output/chm22/xgmix_worldwide_22_train/gen_2//mat_map.npy\n",
      "Reading /home/arvindsk/datagen/simulation-output/chm22/xgmix_worldwide_22_train/gen_4//mat_map.npy\n",
      "Reading /home/arvindsk/datagen/simulation-output/chm22/xgmix_worldwide_22_train/gen_6//mat_map.npy\n",
      "Reading /home/arvindsk/datagen/simulation-output/chm22/xgmix_worldwide_22_valid/gen_2//mat_vcf_2d.npy\n",
      "Reading /home/arvindsk/datagen/simulation-output/chm22/xgmix_worldwide_22_valid/gen_4//mat_vcf_2d.npy\n",
      "Reading /home/arvindsk/datagen/simulation-output/chm22/xgmix_worldwide_22_valid/gen_6//mat_vcf_2d.npy\n",
      "Reading /home/arvindsk/datagen/simulation-output/chm22/xgmix_worldwide_22_valid/gen_2//mat_map.npy\n",
      "Reading /home/arvindsk/datagen/simulation-output/chm22/xgmix_worldwide_22_valid/gen_4//mat_map.npy\n",
      "Reading /home/arvindsk/datagen/simulation-output/chm22/xgmix_worldwide_22_valid/gen_6//mat_map.npy\n",
      "Reshaping data...\n",
      "Generating labels...\n"
     ]
    }
   ],
   "source": [
    "class Struct:\n",
    "    def __init__(self, **entries):\n",
    "        self.__dict__.update(entries)\n",
    "args = Struct(**args)\n",
    "\n",
    "win = args.window_size\n",
    "training, training_labels, validation, validation_labels = data_process(args)\n",
    "chmlen = training.shape[-1]\n",
    "sws = args.smooth_size if args.smooth_size%2 else args.smooth_size-1\n",
    "num_anc = len(np.unique(training_labels))"
   ]
  },
  {
   "cell_type": "code",
   "execution_count": 63,
   "metadata": {
    "scrolled": true
   },
   "outputs": [],
   "source": [
    "if args.missing != 0:\n",
    "    training = simulate_missing_values(training,args.missing)\n",
    "    validation = simulate_missing_values(validation,args.missing)"
   ]
  },
  {
   "cell_type": "code",
   "execution_count": 64,
   "metadata": {},
   "outputs": [
    {
     "name": "stdout",
     "output_type": "stream",
     "text": [
      "Directory exists\n"
     ]
    }
   ],
   "source": [
    "try:\n",
    "    os.mkdir(args.save)\n",
    "except:\n",
    "    print(\"Directory exists\")"
   ]
  },
  {
   "cell_type": "code",
   "execution_count": 65,
   "metadata": {},
   "outputs": [],
   "source": [
    "xgm = XGMIX(chmlen,win,sws,num_anc,args.save,cores=16)"
   ]
  },
  {
   "cell_type": "code",
   "execution_count": 66,
   "metadata": {
    "scrolled": true
   },
   "outputs": [
    {
     "name": "stdout",
     "output_type": "stream",
     "text": [
      "Windows done: 0, \n",
      "Base Training Accuracy: 0.9844444444444445, Base Validation Accuracy: 0.8233333333333334\n",
      "Smooth Training Accuracy: 1.0 \n",
      "Smooth Validation Accuracy: 0.9287179487179488 \n"
     ]
    }
   ],
   "source": [
    "xgm.train(training,training_labels,validation, validation_labels, smoothlite=10000)"
   ]
  },
  {
   "cell_type": "code",
   "execution_count": 67,
   "metadata": {
    "scrolled": true
   },
   "outputs": [
    {
     "name": "stdout",
     "output_type": "stream",
     "text": [
      "Accuracy\n",
      "0.9287179487179488\n",
      "Confusion matrix\n",
      "[[3288   25   11    5    3    0    1   19]\n",
      " [   4   17    1    0    0    0    0    0]\n",
      " [   5    2 3917   36   45   28   78    8]\n",
      " [   5    1   23  940    5    1   58  114]\n",
      " [   9    0   14    9  995    3    5    7]\n",
      " [   8    0    7    0    3   97   10    0]\n",
      " [   9    0   32   76    1    5 1200   55]\n",
      " [  11    4    6   53    1    0   28  412]]\n"
     ]
    }
   ],
   "source": [
    "# predict using the built-in method.\n",
    "ypreds = xgm.predict(validation)\n",
    "print(\"Accuracy\")\n",
    "print(np.mean(ypreds == validation_labels.numpy()))\n",
    "print(\"Confusion matrix\")\n",
    "print(sklearn.metrics.confusion_matrix(ypreds.ravel(), validation_labels.numpy().ravel()))"
   ]
  },
  {
   "cell_type": "code",
   "execution_count": 68,
   "metadata": {
    "scrolled": true
   },
   "outputs": [
    {
     "ename": "XGBoostError",
     "evalue": "[01:15:25] /home/conda/feedstock_root/build_artifacts/xgboost_1588600955503/work/src/learner.cc:682: Check failed: header == serialisation_header_: \n\n  If you are loading a serialized model (like pickle in Python) generated by older\n  XGBoost, please export the model by calling `Booster.save_model` from that version\n  first, then load it back in current version.  There's a simple script for helping\n  the process. See:\n\n    https://xgboost.readthedocs.io/en/latest/tutorials/saving_model.html\n\n  for reference to the script, and more details about differences between saving model and\n  serializing.\n\n\nStack trace:\n  [bt] (0) /home/wknd37/anaconda3/lib/libxgboost.so(+0x8871f) [0x7f1d96afb71f]\n  [bt] (1) /home/wknd37/anaconda3/lib/libxgboost.so(+0x18895e) [0x7f1d96bfb95e]\n  [bt] (2) /home/wknd37/anaconda3/lib/libxgboost.so(XGBoosterUnserializeFromBuffer+0x5e) [0x7f1d96afd9ee]\n  [bt] (3) /home/wknd37/anaconda3/lib/python3.7/lib-dynload/../../libffi.so.6(ffi_call_unix64+0x4c) [0x7f1e0e5b0ec0]\n  [bt] (4) /home/wknd37/anaconda3/lib/python3.7/lib-dynload/../../libffi.so.6(ffi_call+0x22d) [0x7f1e0e5b087d]\n  [bt] (5) /home/wknd37/anaconda3/lib/python3.7/lib-dynload/_ctypes.cpython-37m-x86_64-linux-gnu.so(_ctypes_callproc+0x2ce) [0x7f1e0e7c61de]\n  [bt] (6) /home/wknd37/anaconda3/lib/python3.7/lib-dynload/_ctypes.cpython-37m-x86_64-linux-gnu.so(+0x12c14) [0x7f1e0e7c6c14]\n  [bt] (7) /home/wknd37/anaconda3/bin/python(_PyObject_FastCallKeywords+0x48b) [0x55a09977918b]\n  [bt] (8) /home/wknd37/anaconda3/bin/python(_PyEval_EvalFrameDefault+0x52cf) [0x55a0997c8e8f]\n\n",
     "output_type": "error",
     "traceback": [
      "\u001b[0;31m---------------------------------------------------------------------------\u001b[0m",
      "\u001b[0;31mXGBoostError\u001b[0m                              Traceback (most recent call last)",
      "\u001b[0;32m<ipython-input-68-4b3892502505>\u001b[0m in \u001b[0;36m<module>\u001b[0;34m\u001b[0m\n\u001b[1;32m      1\u001b[0m \u001b[0;31m# predict using the standalone function.\u001b[0m\u001b[0;34m\u001b[0m\u001b[0;34m\u001b[0m\u001b[0;34m\u001b[0m\u001b[0m\n\u001b[0;32m----> 2\u001b[0;31m \u001b[0mypreds\u001b[0m \u001b[0;34m=\u001b[0m \u001b[0mpredict\u001b[0m\u001b[0;34m(\u001b[0m\u001b[0mvalidation\u001b[0m\u001b[0;34m,\u001b[0m\u001b[0margs\u001b[0m\u001b[0;34m.\u001b[0m\u001b[0msave\u001b[0m\u001b[0;34m+\u001b[0m\u001b[0;34m\"/model.pkl\"\u001b[0m\u001b[0;34m)\u001b[0m\u001b[0;34m\u001b[0m\u001b[0;34m\u001b[0m\u001b[0m\n\u001b[0m\u001b[1;32m      3\u001b[0m \u001b[0mprint\u001b[0m\u001b[0;34m(\u001b[0m\u001b[0;34m\"Accuracy\"\u001b[0m\u001b[0;34m)\u001b[0m\u001b[0;34m\u001b[0m\u001b[0;34m\u001b[0m\u001b[0m\n\u001b[1;32m      4\u001b[0m \u001b[0mprint\u001b[0m\u001b[0;34m(\u001b[0m\u001b[0mnp\u001b[0m\u001b[0;34m.\u001b[0m\u001b[0mmean\u001b[0m\u001b[0;34m(\u001b[0m\u001b[0mypreds\u001b[0m \u001b[0;34m==\u001b[0m \u001b[0mvalidation_labels\u001b[0m\u001b[0;34m.\u001b[0m\u001b[0mnumpy\u001b[0m\u001b[0;34m(\u001b[0m\u001b[0;34m)\u001b[0m\u001b[0;34m)\u001b[0m\u001b[0;34m)\u001b[0m\u001b[0;34m\u001b[0m\u001b[0;34m\u001b[0m\u001b[0m\n\u001b[1;32m      5\u001b[0m \u001b[0mprint\u001b[0m\u001b[0;34m(\u001b[0m\u001b[0;34m\"Confusion matrix\"\u001b[0m\u001b[0;34m)\u001b[0m\u001b[0;34m\u001b[0m\u001b[0;34m\u001b[0m\u001b[0m\n",
      "\u001b[0;32m~/XGMix/XGMIX.py\u001b[0m in \u001b[0;36mpredict\u001b[0;34m(tt, path)\u001b[0m\n\u001b[1;32m    145\u001b[0m     \u001b[0;31m# data must match model's window size else error.\u001b[0m\u001b[0;34m\u001b[0m\u001b[0;34m\u001b[0m\u001b[0;34m\u001b[0m\u001b[0m\n\u001b[1;32m    146\u001b[0m     \u001b[0mn\u001b[0m\u001b[0;34m,\u001b[0m \u001b[0mchmlen\u001b[0m \u001b[0;34m=\u001b[0m \u001b[0mtt\u001b[0m\u001b[0;34m.\u001b[0m\u001b[0mshape\u001b[0m\u001b[0;34m\u001b[0m\u001b[0;34m\u001b[0m\u001b[0m\n\u001b[0;32m--> 147\u001b[0;31m     \u001b[0mxgm\u001b[0m \u001b[0;34m=\u001b[0m \u001b[0mpickle\u001b[0m\u001b[0;34m.\u001b[0m\u001b[0mload\u001b[0m\u001b[0;34m(\u001b[0m \u001b[0mopen\u001b[0m\u001b[0;34m(\u001b[0m\u001b[0mpath\u001b[0m\u001b[0;34m,\u001b[0m \u001b[0;34m\"rb\"\u001b[0m \u001b[0;34m)\u001b[0m\u001b[0;34m)\u001b[0m\u001b[0;34m\u001b[0m\u001b[0;34m\u001b[0m\u001b[0m\n\u001b[0m\u001b[1;32m    148\u001b[0m     \u001b[0mmodels\u001b[0m \u001b[0;34m=\u001b[0m \u001b[0mxgm\u001b[0m\u001b[0;34m.\u001b[0m\u001b[0mbase\u001b[0m\u001b[0;34m\u001b[0m\u001b[0;34m\u001b[0m\u001b[0m\n\u001b[1;32m    149\u001b[0m     \u001b[0mmodel\u001b[0m \u001b[0;34m=\u001b[0m \u001b[0mxgm\u001b[0m\u001b[0;34m.\u001b[0m\u001b[0msmooth\u001b[0m\u001b[0;34m\u001b[0m\u001b[0;34m\u001b[0m\u001b[0m\n",
      "\u001b[0;32m~/anaconda3/lib/python3.7/site-packages/xgboost/core.py\u001b[0m in \u001b[0;36m__setstate__\u001b[0;34m(self, state)\u001b[0m\n\u001b[1;32m   1092\u001b[0m             \u001b[0mptr\u001b[0m \u001b[0;34m=\u001b[0m \u001b[0;34m(\u001b[0m\u001b[0mctypes\u001b[0m\u001b[0;34m.\u001b[0m\u001b[0mc_char\u001b[0m \u001b[0;34m*\u001b[0m \u001b[0mlen\u001b[0m\u001b[0;34m(\u001b[0m\u001b[0mbuf\u001b[0m\u001b[0;34m)\u001b[0m\u001b[0;34m)\u001b[0m\u001b[0;34m.\u001b[0m\u001b[0mfrom_buffer\u001b[0m\u001b[0;34m(\u001b[0m\u001b[0mbuf\u001b[0m\u001b[0;34m)\u001b[0m\u001b[0;34m\u001b[0m\u001b[0;34m\u001b[0m\u001b[0m\n\u001b[1;32m   1093\u001b[0m             _check_call(\n\u001b[0;32m-> 1094\u001b[0;31m                 _LIB.XGBoosterUnserializeFromBuffer(handle, ptr, length))\n\u001b[0m\u001b[1;32m   1095\u001b[0m             \u001b[0mstate\u001b[0m\u001b[0;34m[\u001b[0m\u001b[0;34m'handle'\u001b[0m\u001b[0;34m]\u001b[0m \u001b[0;34m=\u001b[0m \u001b[0mhandle\u001b[0m\u001b[0;34m\u001b[0m\u001b[0;34m\u001b[0m\u001b[0m\n\u001b[1;32m   1096\u001b[0m         \u001b[0mself\u001b[0m\u001b[0;34m.\u001b[0m\u001b[0m__dict__\u001b[0m\u001b[0;34m.\u001b[0m\u001b[0mupdate\u001b[0m\u001b[0;34m(\u001b[0m\u001b[0mstate\u001b[0m\u001b[0;34m)\u001b[0m\u001b[0;34m\u001b[0m\u001b[0;34m\u001b[0m\u001b[0m\n",
      "\u001b[0;32m~/anaconda3/lib/python3.7/site-packages/xgboost/core.py\u001b[0m in \u001b[0;36m_check_call\u001b[0;34m(ret)\u001b[0m\n\u001b[1;32m    187\u001b[0m     \"\"\"\n\u001b[1;32m    188\u001b[0m     \u001b[0;32mif\u001b[0m \u001b[0mret\u001b[0m \u001b[0;34m!=\u001b[0m \u001b[0;36m0\u001b[0m\u001b[0;34m:\u001b[0m\u001b[0;34m\u001b[0m\u001b[0;34m\u001b[0m\u001b[0m\n\u001b[0;32m--> 189\u001b[0;31m         \u001b[0;32mraise\u001b[0m \u001b[0mXGBoostError\u001b[0m\u001b[0;34m(\u001b[0m\u001b[0mpy_str\u001b[0m\u001b[0;34m(\u001b[0m\u001b[0m_LIB\u001b[0m\u001b[0;34m.\u001b[0m\u001b[0mXGBGetLastError\u001b[0m\u001b[0;34m(\u001b[0m\u001b[0;34m)\u001b[0m\u001b[0;34m)\u001b[0m\u001b[0;34m)\u001b[0m\u001b[0;34m\u001b[0m\u001b[0;34m\u001b[0m\u001b[0m\n\u001b[0m\u001b[1;32m    190\u001b[0m \u001b[0;34m\u001b[0m\u001b[0m\n\u001b[1;32m    191\u001b[0m \u001b[0;34m\u001b[0m\u001b[0m\n",
      "\u001b[0;31mXGBoostError\u001b[0m: [01:15:25] /home/conda/feedstock_root/build_artifacts/xgboost_1588600955503/work/src/learner.cc:682: Check failed: header == serialisation_header_: \n\n  If you are loading a serialized model (like pickle in Python) generated by older\n  XGBoost, please export the model by calling `Booster.save_model` from that version\n  first, then load it back in current version.  There's a simple script for helping\n  the process. See:\n\n    https://xgboost.readthedocs.io/en/latest/tutorials/saving_model.html\n\n  for reference to the script, and more details about differences between saving model and\n  serializing.\n\n\nStack trace:\n  [bt] (0) /home/wknd37/anaconda3/lib/libxgboost.so(+0x8871f) [0x7f1d96afb71f]\n  [bt] (1) /home/wknd37/anaconda3/lib/libxgboost.so(+0x18895e) [0x7f1d96bfb95e]\n  [bt] (2) /home/wknd37/anaconda3/lib/libxgboost.so(XGBoosterUnserializeFromBuffer+0x5e) [0x7f1d96afd9ee]\n  [bt] (3) /home/wknd37/anaconda3/lib/python3.7/lib-dynload/../../libffi.so.6(ffi_call_unix64+0x4c) [0x7f1e0e5b0ec0]\n  [bt] (4) /home/wknd37/anaconda3/lib/python3.7/lib-dynload/../../libffi.so.6(ffi_call+0x22d) [0x7f1e0e5b087d]\n  [bt] (5) /home/wknd37/anaconda3/lib/python3.7/lib-dynload/_ctypes.cpython-37m-x86_64-linux-gnu.so(_ctypes_callproc+0x2ce) [0x7f1e0e7c61de]\n  [bt] (6) /home/wknd37/anaconda3/lib/python3.7/lib-dynload/_ctypes.cpython-37m-x86_64-linux-gnu.so(+0x12c14) [0x7f1e0e7c6c14]\n  [bt] (7) /home/wknd37/anaconda3/bin/python(_PyObject_FastCallKeywords+0x48b) [0x55a09977918b]\n  [bt] (8) /home/wknd37/anaconda3/bin/python(_PyEval_EvalFrameDefault+0x52cf) [0x55a0997c8e8f]\n\n"
     ]
    }
   ],
   "source": [
    "# predict using the standalone function.\n",
    "ypreds = predict(validation,args.save+\"/model.pkl\")\n",
    "print(\"Accuracy\")\n",
    "print(np.mean(ypreds == validation_labels.numpy()))\n",
    "print(\"Confusion matrix\")\n",
    "print(sklearn.metrics.confusion_matrix(ypreds.ravel(), validation_labels.numpy().ravel()))"
   ]
  },
  {
   "cell_type": "code",
   "execution_count": null,
   "metadata": {},
   "outputs": [],
   "source": []
  }
 ],
 "metadata": {
  "kernelspec": {
   "display_name": "Python 3",
   "language": "python",
   "name": "python3"
  },
  "language_info": {
   "codemirror_mode": {
    "name": "ipython",
    "version": 3
   },
   "file_extension": ".py",
   "mimetype": "text/x-python",
   "name": "python",
   "nbconvert_exporter": "python",
   "pygments_lexer": "ipython3",
   "version": "3.7.6"
  }
 },
 "nbformat": 4,
 "nbformat_minor": 2
}
