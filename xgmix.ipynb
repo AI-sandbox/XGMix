{
 "cells": [
  {
   "cell_type": "markdown",
   "metadata": {},
   "source": [
    "# XGMIX notebook\n",
    "\n",
    "This seems to work. One caveat is that it gets stuck in an infinte loop for the fist time you run after making changes. So just stop the kernel and re-run the cell."
   ]
  },
  {
   "cell_type": "code",
   "execution_count": 1,
   "metadata": {},
   "outputs": [],
   "source": [
    "import numpy as np\n",
    "import os"
   ]
  },
  {
   "cell_type": "code",
   "execution_count": 2,
   "metadata": {},
   "outputs": [],
   "source": [
    "%load_ext autoreload\n",
    "%autoreload 2\n",
    "from preprocess import data_process,simulate_missing_values\n",
    "from XGMIX import *"
   ]
  },
  {
   "cell_type": "markdown",
   "metadata": {},
   "source": [
    "## Main arguments"
   ]
  },
  {
   "cell_type": "code",
   "execution_count": 3,
   "metadata": {},
   "outputs": [],
   "source": [
    "# args = {'train_data': \"/home/arvindsk/xgmix_new/expts/xgmix_global_1/train.txt\", \n",
    "#         \"val_data\" : \"/home/arvindsk/xgmix_new/expts/xgmix_global_1/val.txt\", \n",
    "#         \"save\": None,\n",
    "#         \"window_size\": 1000,\n",
    "#         \"smooth_size\": 75,\n",
    "#         \"missing\":0.0}"
   ]
  },
  {
   "cell_type": "code",
   "execution_count": 29,
   "metadata": {},
   "outputs": [],
   "source": [
    "args = {'train_data': \"/home/arvindsk/xgmix_new/expts/xgmix_global_22/train.txt\", \n",
    "        \"val_data\" : \"/home/arvindsk/xgmix_new/expts/xgmix_global_22/val.txt\", \n",
    "        \"save\": \"/home/arvindsk/xgmix_new/expts/xgmix_global_22/\",\n",
    "        \"window_size\": 1000,\n",
    "        \"smooth_size\": 75,\n",
    "        \"missing\":0.0}"
   ]
  },
  {
   "cell_type": "markdown",
   "metadata": {},
   "source": [
    "## Pre-processing"
   ]
  },
  {
   "cell_type": "code",
   "execution_count": 30,
   "metadata": {
    "scrolled": true
   },
   "outputs": [
    {
     "name": "stdout",
     "output_type": "stream",
     "text": [
      "Loading data...\n",
      "Reading /home/arvindsk/datagen/simulation-output/chm22/xgmix_worldwide_22_train/gen_2//mat_vcf_2d.npy\n",
      "Reading /home/arvindsk/datagen/simulation-output/chm22/xgmix_worldwide_22_train/gen_4//mat_vcf_2d.npy\n",
      "Reading /home/arvindsk/datagen/simulation-output/chm22/xgmix_worldwide_22_train/gen_6//mat_vcf_2d.npy\n",
      "Reading /home/arvindsk/datagen/simulation-output/chm22/xgmix_worldwide_22_train/gen_2//mat_map.npy\n",
      "Reading /home/arvindsk/datagen/simulation-output/chm22/xgmix_worldwide_22_train/gen_4//mat_map.npy\n",
      "Reading /home/arvindsk/datagen/simulation-output/chm22/xgmix_worldwide_22_train/gen_6//mat_map.npy\n",
      "Reading /home/arvindsk/datagen/simulation-output/chm22/xgmix_worldwide_22_valid/gen_2//mat_vcf_2d.npy\n",
      "Reading /home/arvindsk/datagen/simulation-output/chm22/xgmix_worldwide_22_valid/gen_4//mat_vcf_2d.npy\n",
      "Reading /home/arvindsk/datagen/simulation-output/chm22/xgmix_worldwide_22_valid/gen_6//mat_vcf_2d.npy\n",
      "Reading /home/arvindsk/datagen/simulation-output/chm22/xgmix_worldwide_22_valid/gen_2//mat_map.npy\n",
      "Reading /home/arvindsk/datagen/simulation-output/chm22/xgmix_worldwide_22_valid/gen_4//mat_map.npy\n",
      "Reading /home/arvindsk/datagen/simulation-output/chm22/xgmix_worldwide_22_valid/gen_6//mat_map.npy\n",
      "Reshaping data...\n",
      "Generating labels...\n"
     ]
    }
   ],
   "source": [
    "class Struct:\n",
    "    def __init__(self, **entries):\n",
    "        self.__dict__.update(entries)\n",
    "args = Struct(**args)\n",
    "\n",
    "win = args.window_size\n",
    "training, training_labels, validation, validation_labels = data_process(args)\n",
    "chmlen = training.shape[-1]\n",
    "sws = args.smooth_size if args.smooth_size%2 else args.smooth_size-1\n",
    "num_anc = len(np.unique(training_labels))"
   ]
  },
  {
   "cell_type": "code",
   "execution_count": 15,
   "metadata": {
    "scrolled": true
   },
   "outputs": [],
   "source": [
    "if args.missing != 0:\n",
    "    training = simulate_missing_values(training,args.missing)\n",
    "    validation = simulate_missing_values(validation,args.missing)"
   ]
  },
  {
   "cell_type": "code",
   "execution_count": null,
   "metadata": {},
   "outputs": [],
   "source": [
    "try:\n",
    "    os.mkdir(args.save)\n",
    "except:\n",
    "    print(\"Directory exists\")"
   ]
  },
  {
   "cell_type": "code",
   "execution_count": null,
   "metadata": {},
   "outputs": [],
   "source": [
    "xgm = XGMIX(chmlen,win,sws,num_anc,args.save,cores=16)"
   ]
  },
  {
   "cell_type": "code",
   "execution_count": null,
   "metadata": {
    "scrolled": true
   },
   "outputs": [],
   "source": [
    "xgm.train(training,training_labels,validation, validation_labels, smoothlite=10000)"
   ]
  },
  {
   "cell_type": "code",
   "execution_count": null,
   "metadata": {
    "scrolled": true
   },
   "outputs": [],
   "source": [
    "ypreds = predict(validation,args.save)"
   ]
  },
  {
   "cell_type": "code",
   "execution_count": null,
   "metadata": {},
   "outputs": [],
   "source": [
    "np.mean(ypreds == validation_labels.numpy())"
   ]
  },
  {
   "cell_type": "code",
   "execution_count": null,
   "metadata": {},
   "outputs": [],
   "source": [
    "sklearn.metrics.confusion_matrix(ypreds.ravel(), validation_labels.numpy().ravel())"
   ]
  },
  {
   "cell_type": "code",
   "execution_count": null,
   "metadata": {},
   "outputs": [],
   "source": []
  }
 ],
 "metadata": {
  "kernelspec": {
   "display_name": "Python 3",
   "language": "python",
   "name": "python3"
  },
  "language_info": {
   "codemirror_mode": {
    "name": "ipython",
    "version": 3
   },
   "file_extension": ".py",
   "mimetype": "text/x-python",
   "name": "python",
   "nbconvert_exporter": "python",
   "pygments_lexer": "ipython3",
   "version": "3.7.4"
  }
 },
 "nbformat": 4,
 "nbformat_minor": 2
}
